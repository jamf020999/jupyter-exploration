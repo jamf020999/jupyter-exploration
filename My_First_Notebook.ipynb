{
  "nbformat": 4,
  "nbformat_minor": 0,
  "metadata": {
    "colab": {
      "provenance": []
    },
    "kernelspec": {
      "name": "python3",
      "display_name": "Python 3"
    },
    "language_info": {
      "name": "python"
    }
  },
  "cells": [
    {
      "cell_type": "markdown",
      "source": [
        "```I just edited the cell as Markdown so write text instead of code```\n"
      ],
      "metadata": {
        "id": "v1Lw_GtjMGPN"
      }
    },
    {
      "cell_type": "code",
      "source": [
        "import random\n",
        "\n",
        "\n",
        "rolls = []\n",
        "for i in range(10):\n",
        "    value = random.randint(1, 6)\n",
        "    rolls.append(value)\n",
        "    print(\"Roll\", i+1, \":\", value)\n",
        "\n",
        "average = sum(rolls) / len(rolls)\n",
        "print(\"\\nAverage of rolls:\", float(average))"
      ],
      "metadata": {
        "colab": {
          "base_uri": "https://localhost:8080/"
        },
        "id": "jxwqJgUyL8b_",
        "outputId": "052b4e65-e9a4-445d-ca3a-327eef0e01fb"
      },
      "execution_count": 82,
      "outputs": [
        {
          "output_type": "stream",
          "name": "stdout",
          "text": [
            "Roll 1 : 3\n",
            "Roll 2 : 2\n",
            "Roll 3 : 3\n",
            "Roll 4 : 2\n",
            "Roll 5 : 2\n",
            "Roll 6 : 6\n",
            "Roll 7 : 4\n",
            "Roll 8 : 6\n",
            "Roll 9 : 2\n",
            "Roll 10 : 3\n",
            "\n",
            "Average of rolls: 3.3\n"
          ]
        }
      ]
    }
  ]
}